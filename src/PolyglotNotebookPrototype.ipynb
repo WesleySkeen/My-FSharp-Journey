{
 "cells": [
  {
   "cell_type": "markdown",
   "metadata": {},
   "source": [
    "# Polyglot notebook prototype\n",
    "Jupyter notebooks are a nice way to try out F# code combined with some Markdown documentation. This notebook is being added to try this out and see if we like it."
   ]
  },
  {
   "cell_type": "markdown",
   "metadata": {},
   "source": [
    "## Higher order input function\n",
    "Any `int -> int` function can be passed to the `fn` argument of `evalWith5ThenAdd2`"
   ]
  },
  {
   "cell_type": "code",
   "execution_count": 9,
   "metadata": {
    "dotnet_interactive": {
     "language": "fsharp"
    },
    "vscode": {
     "languageId": "dotnet-interactive.fsharp"
    }
   },
   "outputs": [
    {
     "name": "stdout",
     "output_type": "stream",
     "text": [
      "evalWith5ThenAdd2 add1: 8\r\n",
      "evalWith5ThenAdd2 add2: 9\r\n",
      "evalWith5ThenAdd2 double: 12\r\n"
     ]
    }
   ],
   "source": [
    "let add1 x = x + 1\n",
    "let add2 x = x + 2\n",
    "let double x = x * 2\n",
    "\n",
    "let evalWith5ThenAdd2 fn = fn 5 + 2\n",
    "\n",
    "printfn $\"evalWith5ThenAdd2 add1: %d{evalWith5ThenAdd2 add1}\"\n",
    "printfn $\"evalWith5ThenAdd2 add2: %d{evalWith5ThenAdd2 add2}\"\n",
    "printfn $\"evalWith5ThenAdd2 double: %d{evalWith5ThenAdd2 double}\""
   ]
  },
  {
   "cell_type": "markdown",
   "metadata": {},
   "source": [
    "## Higher order output function\n",
    "Functions can return functions"
   ]
  },
  {
   "cell_type": "code",
   "execution_count": 10,
   "metadata": {
    "dotnet_interactive": {
     "language": "fsharp"
    },
    "vscode": {
     "languageId": "dotnet-interactive.fsharp"
    }
   },
   "outputs": [
    {
     "name": "stdout",
     "output_type": "stream",
     "text": [
      "add1 2: 3\r\n",
      "add2 2: 4\r\n"
     ]
    }
   ],
   "source": [
    "let adderGenerator numberToAdd = (+) numberToAdd\n",
    "let add1 = adderGenerator 1\n",
    "let add2 = adderGenerator 2\n",
    "\n",
    "printfn $\"add1 2: %d{add1 2}\"\n",
    "printfn $\"add2 2: %d{add2 2}\""
   ]
  },
  {
   "cell_type": "markdown",
   "metadata": {},
   "source": [
    "## Printing\n",
    "The `%A` format specifier will print structured data.\n",
    "[Table of all format specifiers](https://learn.microsoft.com/en-us/dotnet/fsharp/language-reference/plaintext-formatting#format-specifiers-for-printf)"
   ]
  },
  {
   "cell_type": "code",
   "execution_count": 11,
   "metadata": {
    "dotnet_interactive": {
     "language": "fsharp"
    },
    "vscode": {
     "languageId": "dotnet-interactive.fsharp"
    }
   },
   "outputs": [
    {
     "name": "stdout",
     "output_type": "stream",
     "text": [
      "[[(1, 1); (1, 2); (1, 3); (1, 4); (1, 5)];\n",
      " [(2, 1); (2, 2); (2, 3); (2, 4); (2, 5)];\n",
      " [(3, 1); (3, 2); (3, 3); (3, 4); (3, 5)];\n",
      " [(4, 1); (4, 2); (4, 3); (4, 4); (4, 5)];\n",
      " [(5, 1); (5, 2); (5, 3); (5, 4); (5, 5)]]\r\n"
     ]
    }
   ],
   "source": [
    "printfn \"%A\" [ for i in 1 .. 5 -> [ for j in 1 .. 5 -> (i, j) ] ]"
   ]
  },
  {
   "cell_type": "markdown",
   "metadata": {
    "dotnet_interactive": {
     "language": "fsharp"
    }
   },
   "source": [
    "## Generic arguments\n",
    "The `x` in this function has the type `'a` which is the equivalent of `OnAStick<T>` in C#."
   ]
  },
  {
   "cell_type": "code",
   "execution_count": 12,
   "metadata": {
    "dotnet_interactive": {
     "language": "fsharp"
    },
    "vscode": {
     "languageId": "dotnet-interactive.fsharp"
    }
   },
   "outputs": [
    {
     "name": "stdout",
     "output_type": "stream",
     "text": [
      "\"29 on a stick\"\r\n",
      "\"3.14159 on a stick\"\r\n",
      "\"sausage on a stick\"\r\n"
     ]
    }
   ],
   "source": [
    "let onAStick x = x.ToString() + \" on a stick\"\n",
    "\n",
    "let onAStick29 = onAStick 29\n",
    "let onAStickPi = onAStick 3.14159\n",
    "let onAStickSg = onAStick \"sausage\"\n",
    "\n",
    "printfn \"%A\" onAStick29\n",
    "printfn \"%A\" onAStickPi\n",
    "printfn \"%A\" onAStickSg"
   ]
  },
  {
   "cell_type": "markdown",
   "metadata": {},
   "source": [
    "## Partial application\n",
    "Supply less than the full set of arguments to a function and you get back a new function with those values \"baked\" in. The new function will then take which ever arguments were left off when the original function was called. This is a great way to handle dependencies that do I/O. In the production code there can be function that calls the real database and in the test code there can be functions that return canned values kind of like mocking libraries do."
   ]
  },
  {
   "cell_type": "code",
   "execution_count": 13,
   "metadata": {
    "dotnet_interactive": {
     "language": "fsharp"
    },
    "vscode": {
     "languageId": "dotnet-interactive.fsharp"
    }
   },
   "outputs": [
    {
     "name": "stdout",
     "output_type": "stream",
     "text": [
      "{ \"logMessage\": \"result=4\" }\r\n",
      "<logMessage>result=-4</logMessage\r\n"
     ]
    }
   ],
   "source": [
    "let adderWithLogger logger x y =\n",
    "    let result = x + y\n",
    "    logger \"result\" result\n",
    "    result\n",
    "\n",
    "let jsonLogger argName argValue =\n",
    "    printfn $\"\"\"{{ \"logMessage\": \"{argName}={argValue}\" }}\"\"\"\n",
    "\n",
    "let xmlLogger argName argValue =\n",
    "    printfn $\"<logMessage>{argName}={argValue}</logMessage\"\n",
    "\n",
    "// Call the adderWithLogger function and supply only the logger argument to build new \n",
    "// functions with each logger embedded.\n",
    "let adderWithJsonLogger = adderWithLogger jsonLogger\n",
    "let adderWithXmlLogger = adderWithLogger xmlLogger\n",
    "\n",
    "// Now call the new functions and supply the remaining arguments...\n",
    "let sum1 = adderWithJsonLogger 2 2\n",
    "let sum2 = adderWithXmlLogger -2 -2\n"
   ]
  }
 ],
 "metadata": {
  "kernelspec": {
   "display_name": ".NET (F#)",
   "language": "F#",
   "name": ".net-fsharp"
  },
  "language_info": {
   "name": "F#"
  }
 },
 "nbformat": 4,
 "nbformat_minor": 2
}
