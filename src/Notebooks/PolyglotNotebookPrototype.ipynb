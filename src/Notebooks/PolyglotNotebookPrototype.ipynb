{
 "cells": [
  {
   "cell_type": "markdown",
   "metadata": {},
   "source": [
    "# Polyglot notebook prototype\n",
    "Jupyter notebooks are a nice way to try out F# code combined with some Markdown documentation. This notebook is being added to try this out and see if we like it.\n",
    "\n",
    "Requirements\n",
    "- Visual Studio Code\n",
    "- [Polyglot Notebooks](https://marketplace.visualstudio.com/items?itemName=ms-dotnettools.dotnet-interactive-vscode) extension for VS code\n",
    "- .NET 6 SDK\n",
    "\n",
    "Quick start\n",
    "- Click into a code cell and press the run button or CTRL + ALT + ENTER to execute\n",
    "- Double click a markdown cell to edit then click the check mark button to save it\n",
    "- Hover to get options to add a Code or a Markdown cell\n",
    "- Click the Language in the lower right of the cell to change it\n"
   ]
  },
  {
   "cell_type": "markdown",
   "metadata": {},
   "source": [
    "## Higher order input function\n",
    "Any `int -> int` function can be passed to the `fn` argument of `evalWith5ThenAdd2`"
   ]
  },
  {
   "cell_type": "code",
   "execution_count": 1,
   "metadata": {
    "dotnet_interactive": {
     "language": "fsharp"
    },
    "vscode": {
     "languageId": "dotnet-interactive.fsharp"
    }
   },
   "outputs": [
    {
     "name": "stdout",
     "output_type": "stream",
     "text": [
      "evalWith5ThenAdd2 add1: 8\r\n",
      "evalWith5ThenAdd2 add2: 9\r\n",
      "evalWith5ThenAdd2 double: 12\r\n"
     ]
    }
   ],
   "source": [
    "let add1 x = x + 1\n",
    "let add2 x = x + 2\n",
    "let double x = x * 2\n",
    "\n",
    "let evalWith5ThenAdd2 fn = fn 5 + 2\n",
    "\n",
    "printfn $\"evalWith5ThenAdd2 add1: %d{evalWith5ThenAdd2 add1}\"\n",
    "printfn $\"evalWith5ThenAdd2 add2: %d{evalWith5ThenAdd2 add2}\"\n",
    "printfn $\"evalWith5ThenAdd2 double: %d{evalWith5ThenAdd2 double}\""
   ]
  },
  {
   "cell_type": "markdown",
   "metadata": {},
   "source": [
    "## Higher order output function\n",
    "Functions can return functions"
   ]
  },
  {
   "cell_type": "code",
   "execution_count": 2,
   "metadata": {
    "dotnet_interactive": {
     "language": "fsharp"
    },
    "vscode": {
     "languageId": "dotnet-interactive.fsharp"
    }
   },
   "outputs": [
    {
     "name": "stdout",
     "output_type": "stream",
     "text": [
      "add1 2: 3\r\n",
      "add2 2: 4\r\n"
     ]
    }
   ],
   "source": [
    "let adderGenerator numberToAdd = (+) numberToAdd\n",
    "let add1 = adderGenerator 1\n",
    "let add2 = adderGenerator 2\n",
    "\n",
    "printfn $\"add1 2: %d{add1 2}\"\n",
    "printfn $\"add2 2: %d{add2 2}\""
   ]
  },
  {
   "cell_type": "markdown",
   "metadata": {},
   "source": [
    "## Printing\n",
    "The `%A` format specifier will print structured data.\n",
    "[Table of all format specifiers](https://learn.microsoft.com/en-us/dotnet/fsharp/language-reference/plaintext-formatting#format-specifiers-for-printf)"
   ]
  },
  {
   "cell_type": "code",
   "execution_count": 11,
   "metadata": {
    "dotnet_interactive": {
     "language": "fsharp"
    },
    "vscode": {
     "languageId": "dotnet-interactive.fsharp"
    }
   },
   "outputs": [
    {
     "name": "stdout",
     "output_type": "stream",
     "text": [
      "[[(1, 1); (1, 2); (1, 3); (1, 4); (1, 5)];\n",
      " [(2, 1); (2, 2); (2, 3); (2, 4); (2, 5)];\n",
      " [(3, 1); (3, 2); (3, 3); (3, 4); (3, 5)];\n",
      " [(4, 1); (4, 2); (4, 3); (4, 4); (4, 5)];\n",
      " [(5, 1); (5, 2); (5, 3); (5, 4); (5, 5)]]\r\n"
     ]
    }
   ],
   "source": [
    "printfn \"%A\" [ for i in 1 .. 5 -> [ for j in 1 .. 5 -> (i, j) ] ]"
   ]
  },
  {
   "cell_type": "markdown",
   "metadata": {
    "dotnet_interactive": {
     "language": "fsharp"
    }
   },
   "source": [
    "## Generic arguments\n",
    "The `x` in this function has the type `'a` which is the equivalent of `OnAStick<T>` in C#."
   ]
  },
  {
   "cell_type": "code",
   "execution_count": 4,
   "metadata": {
    "dotnet_interactive": {
     "language": "fsharp"
    },
    "vscode": {
     "languageId": "dotnet-interactive.fsharp"
    }
   },
   "outputs": [
    {
     "name": "stdout",
     "output_type": "stream",
     "text": [
      "\"29 on a stick\"\r\n",
      "\"3.14159 on a stick\"\r\n",
      "\"sausage on a stick\"\r\n"
     ]
    }
   ],
   "source": [
    "let onAStick x = x.ToString() + \" on a stick\"\n",
    "\n",
    "let onAStick29 = onAStick 29\n",
    "let onAStickPi = onAStick 3.14159\n",
    "let onAStickSg = onAStick \"sausage\"\n",
    "\n",
    "printfn \"%A\" onAStick29\n",
    "printfn \"%A\" onAStickPi\n",
    "printfn \"%A\" onAStickSg"
   ]
  },
  {
   "cell_type": "markdown",
   "metadata": {},
   "source": [
    "## Partial application\n",
    "Supply less than the full set of arguments to a function and you get back a new function with those values \"baked\" in. The new function will then take which ever arguments were left off when the original function was called. This is a great way to handle dependencies that do I/O. In the production code there can be function that calls the real database and in the test code there can be functions that return canned values kind of like mocking libraries do."
   ]
  },
  {
   "cell_type": "code",
   "execution_count": 5,
   "metadata": {
    "dotnet_interactive": {
     "language": "fsharp"
    },
    "vscode": {
     "languageId": "dotnet-interactive.fsharp"
    }
   },
   "outputs": [
    {
     "name": "stdout",
     "output_type": "stream",
     "text": [
      "{ \"logMessage\": \"result=4\" }\r\n",
      "<logMessage>result=-4</logMessage\r\n"
     ]
    }
   ],
   "source": [
    "let adderWithLogger logger x y =\n",
    "    let result = x + y\n",
    "    logger \"result\" result\n",
    "    result\n",
    "\n",
    "let jsonLogger argName argValue =\n",
    "    printfn $\"\"\"{{ \"logMessage\": \"{argName}={argValue}\" }}\"\"\"\n",
    "\n",
    "let xmlLogger argName argValue =\n",
    "    printfn $\"<logMessage>{argName}={argValue}</logMessage\"\n",
    "\n",
    "// Call the adderWithLogger function and supply only the logger argument to build new \n",
    "// functions with each logger embedded.\n",
    "let adderWithJsonLogger = adderWithLogger jsonLogger\n",
    "let adderWithXmlLogger = adderWithLogger xmlLogger\n",
    "\n",
    "// Now call the new functions and supply the remaining arguments...\n",
    "let sum1 = adderWithJsonLogger 2 2\n",
    "let sum2 = adderWithXmlLogger -2 -2\n"
   ]
  },
  {
   "cell_type": "markdown",
   "metadata": {},
   "source": [
    "# MISU - Make Invalid States Unrepresentable\n",
    "We can create custom constrained types that are more reliable than primitives like `string` or `int`. Primitives often allow so many invalid values for the purpose where they are being used that we must constantly check them and worry if the function we're calling is getting a value within the domain of values we expect. As an example, let's consider email as a `string`. An email address can certainly be stored in a `string`, but so can a great many other things. Let's create a type called `ValidEmailAddress` where instances of it can only come into existence if the email string meets the basic rules for valid emails. Functions that require valid emails can then use the supplied with confidence, eliminating many common bugs."
   ]
  },
  {
   "cell_type": "code",
   "execution_count": 7,
   "metadata": {
    "dotnet_interactive": {
     "language": "fsharp"
    },
    "vscode": {
     "languageId": "dotnet-interactive.fsharp"
    }
   },
   "outputs": [
    {
     "name": "stdout",
     "output_type": "stream",
     "text": [
      "Saving bad email ...\r\n"
     ]
    },
    {
     "ename": "Error",
     "evalue": "System.ArgumentException: The email 'bad email' is not a valid email address.\r\n   at FSI_0014.ValidEmailAddressModule.fromString(String emailStr)\r\n   at <StartupCode$FSI_0014>.$FSI_0014.main@()",
     "output_type": "error",
     "traceback": [
      "System.ArgumentException: The email 'bad email' is not a valid email address.\r\n",
      "   at FSI_0014.ValidEmailAddressModule.fromString(String emailStr)\r\n",
      "   at <StartupCode$FSI_0014>.$FSI_0014.main@()"
     ]
    }
   ],
   "source": [
    "\n",
    "open System\n",
    "open System.Net.Mail\n",
    "\n",
    "type ValidEmailAddress = ValidEmailAddress of string\n",
    "\n",
    "module ValidEmailAddress =\n",
    "\n",
    "    let fromString emailStr : ValidEmailAddress =\n",
    "        let (isValid, _) = MailAddress.TryCreate(emailStr)\n",
    "        if not isValid then\n",
    "            raise <| System.ArgumentException($\"The email '{emailStr}' is not a valid email address.\")\n",
    "        \n",
    "        ValidEmailAddress emailStr\n",
    "\n",
    "    let toString (ValidEmailAddress(emailStr)) : string =\n",
    "        emailStr\n",
    "\n",
    "\n",
    "let saveValidEmail (validEmail: ValidEmailAddress) =\n",
    "    printfn $\"Saving {ValidEmailAddress.toString validEmail} ...\"\n",
    "\n",
    "// A bypass of the function is possible in this version\n",
    "let invalidValid = ValidEmailAddress \"bad email\"\n",
    "\n",
    "saveValidEmail invalidValid\n",
    "\n",
    "// This will fail and so saveValidEmail won't ever be called. So we can't make an instance in the invalid state (MISU).\n",
    "let attemptedValid = ValidEmailAddress.fromString \"bad email\"\n",
    "\n",
    "saveValidEmail attemptedValid"
   ]
  },
  {
   "cell_type": "markdown",
   "metadata": {},
   "source": [
    "> Note: This sample code is not 100% full proof. It makes it easy and obvious how to create ValidEmailAddress instances but someone could bypass the module function and create instance of the type with   \n",
    "> `let v = ValidEmailAddress \"bad email\"`"
   ]
  },
  {
   "cell_type": "code",
   "execution_count": 1,
   "metadata": {
    "dotnet_interactive": {
     "language": "fsharp"
    },
    "vscode": {
     "languageId": "dotnet-interactive.fsharp"
    }
   },
   "outputs": [
    {
     "ename": "Error",
     "evalue": "System.ArgumentException: The email 'bad email' is not a valid email address.\r\n   at FSI_0009.ValidEmailAddress.fromString(String emailStr)\r\n   at <StartupCode$FSI_0009>.$FSI_0009.main@()",
     "output_type": "error",
     "traceback": [
      "System.ArgumentException: The email 'bad email' is not a valid email address.\r\n",
      "   at FSI_0009.ValidEmailAddress.fromString(String emailStr)\r\n",
      "   at <StartupCode$FSI_0009>.$FSI_0009.main@()"
     ]
    }
   ],
   "source": [
    "// More strict version of the module\n",
    "open System\n",
    "open System.Net.Mail\n",
    "\n",
    "module ValidEmailAddress =\n",
    "\n",
    "    type ValidEmailAddress = private ValidEmailAddress of string\n",
    "\n",
    "    let fromString emailStr : ValidEmailAddress =\n",
    "        let (isValid, _) = MailAddress.TryCreate(emailStr)\n",
    "        if not isValid then\n",
    "            raise <| System.ArgumentException($\"The email '{emailStr}' is not a valid email address.\")\n",
    "        \n",
    "        ValidEmailAddress emailStr\n",
    "\n",
    "    let toString (ValidEmailAddress(emailStr)) : string =\n",
    "        emailStr\n",
    "\n",
    "// Can't bypass the fromString function like before\n",
    "// let invalidValid = ValidEmailAddress \"bad email\"\n",
    "\n",
    "// Create a function that relies on the ValidEmailAddress type.\n",
    "let saveValidEmail (validEmail) =\n",
    "    printfn $\"Saving {ValidEmailAddress.toString validEmail} ...\"\n",
    "\n",
    "// This will fail and so saveValidEmail won't ever be called. So we can't make an instance in the invalid state (MISU).\n",
    "let validEmail = ValidEmailAddress.fromString \"bad email\"\n",
    "\n",
    "saveValidEmail validEmail"
   ]
  }
 ],
 "metadata": {
  "kernelspec": {
   "display_name": ".NET (F#)",
   "language": "F#",
   "name": ".net-fsharp"
  },
  "language_info": {
   "name": "F#"
  }
 },
 "nbformat": 4,
 "nbformat_minor": 2
}
